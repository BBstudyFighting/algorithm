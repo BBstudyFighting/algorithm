{
 "cells": [
  {
   "cell_type": "markdown",
   "id": "17aa6c4b-c993-482d-9d1d-9cb89aca86e9",
   "metadata": {
    "tags": []
   },
   "source": [
    "## SWEA 4861 회문 (palindrome)"
   ]
  },
  {
   "cell_type": "markdown",
   "id": "37e4b9af-ccd2-485e-9835-d322aea5d497",
   "metadata": {},
   "source": [
    "[문제 출처 : SW Expert Academy](https://swexpertacademy.com/main/learn/course/subjectDetail.do?courseId=AVuPDN86AAXw5UW6&subjectId=AWOVGOEKqeoDFAWg)"
   ]
  },
  {
   "cell_type": "markdown",
   "id": "1888acb0-30f4-4a1f-abb3-7bbfebf83bb9",
   "metadata": {},
   "source": [
    "### 문제정리"
   ]
  },
  {
   "cell_type": "markdown",
   "id": "05f4ec46-d1f7-4429-9904-109879318d75",
   "metadata": {},
   "source": [
    "회문 찾기 (앞으로 해도 뒤로해도 이효리 같은 느낌..)"
   ]
  },
  {
   "cell_type": "code",
   "execution_count": null,
   "id": "9cb1a85c-0d83-4fdc-bfa1-3abac4b81ffd",
   "metadata": {},
   "outputs": [],
   "source": [
    "J A E Z N N Z E A J -> 회문 \n",
    "\n",
    "n x n 인 글자판에서 길이가 m인 회문찾기\n",
    "※ 주의 : 가로 뿐만아니라 세로도 찾아질수 있다! "
   ]
  },
  {
   "cell_type": "markdown",
   "id": "0fcfebf0-c0ad-4419-af66-ec3d98c26169",
   "metadata": {},
   "source": [
    "### 문제풀이"
   ]
  },
  {
   "cell_type": "code",
   "execution_count": null,
   "id": "98a6fdc3-6e53-48a0-b797-276b98ea26de",
   "metadata": {},
   "outputs": [],
   "source": [
    "1. 뒤집기 함수   : range(list, -1, -1) 로 거꾸로 불러오기 \n",
    "    - 세로배열은 인덱싱[::-1]을 통해 찾을 수 없음을 주의\n",
    "    \n",
    "2. 회문찾기 함수 : 순 배열과 역 배열 비교를 통해 찾기\n",
    "    - 세로 리스트은 같은 열에 행인덱스만 바꿔가며 추가"
   ]
  },
  {
   "cell_type": "code",
   "execution_count": null,
   "id": "44b391a6-d2cb-4c9a-ae5e-d59f3920a700",
   "metadata": {},
   "outputs": [],
   "source": [
    "# 문자열 뒤집기 함수\n",
    "def reverse(row):\n",
    "    # 리스트 초기화\n",
    "    r_row = []\n",
    "    # 거꾸로 불러오며 리스트에 더하기\n",
    "    for i in range(len(row)-1, -1, -1):\n",
    "        r_row.append(row[i])\n",
    "    # 뒤집힌 리스트 반환\n",
    "    return r_row\n",
    "\n",
    "# 회문(팰린드롬) 함수\n",
    "def palindrome():\n",
    "    for i in range(n):\n",
    "        # 가로 검사\n",
    "        for j in range(n-m+1):\n",
    "            tmp = words[i][j:j+m]\n",
    "            # 회문검사\n",
    "            if tmp == reverse(tmp):\n",
    "                return tmp\n",
    "        # 세로 검사 \n",
    "        for j in range(n-m+1):\n",
    "            tmp = [] # 세로문자열을 위한 빈리스트\n",
    "            for k in range(m):\n",
    "                tmp.append(words[j+k][i]) # k값이 증가하며 세로값 추가\n",
    "            if tmp == reverse(tmp):\n",
    "                return tmp            \n",
    "    return [] # 팰린드롬이 없으면 빈리스트 반환\n",
    "            \n",
    "T = int(input())           \n",
    "for tc in range(1, T+1):\n",
    "    n, m = map(int, input().split())\n",
    "    words = [list(input()) for _ in range(n)]\n",
    "    # 원하는 형식으로 출력하기 위해 join 사용\n",
    "    ans = palindrome()\n",
    "    print(f\"#{tc} {''.join(ans)}\")"
   ]
  }
 ],
 "metadata": {
  "kernelspec": {
   "display_name": "Python 3 (ipykernel)",
   "language": "python",
   "name": "python3"
  },
  "language_info": {
   "codemirror_mode": {
    "name": "ipython",
    "version": 3
   },
   "file_extension": ".py",
   "mimetype": "text/x-python",
   "name": "python",
   "nbconvert_exporter": "python",
   "pygments_lexer": "ipython3",
   "version": "3.8.10"
  }
 },
 "nbformat": 4,
 "nbformat_minor": 5
}
